{
  "nbformat": 4,
  "nbformat_minor": 0,
  "metadata": {
    "colab": {
      "name": "OOP.ipynb",
      "provenance": [],
      "collapsed_sections": []
    },
    "kernelspec": {
      "name": "python3",
      "display_name": "Python 3"
    },
    "language_info": {
      "name": "python"
    }
  },
  "cells": [
    {
      "cell_type": "code",
      "metadata": {
        "colab": {
          "base_uri": "https://localhost:8080/"
        },
        "id": "2BpG_qjduPWe",
        "outputId": "c32478b8-0096-40d0-dd50-dd5b079f3c37"
      },
      "source": [
        "#Classes and instances and functions in classes\n",
        "\n",
        "\n",
        "#position, name, age , level, salary \n",
        "se1= [\"Software engineer\",\"Max\",20,\"Junior\",5000]\n",
        "se1= [\"Software engineer\",\"Lisa\",25,\"Senior\",7000]\n",
        "\n",
        "#class\n",
        "class SoftwareEngineer:\n",
        "\n",
        "  #class attribute\n",
        "  alias=\"Keyboard magician\"\n",
        "\n",
        "  def __init__(self,name,age,level,salary):\n",
        "    \n",
        "    #instance attribute\n",
        "    self.name=name\n",
        "    self.age=age\n",
        "    self.level=level\n",
        "    self.salary=salary\n",
        "\n",
        "#instance method\n",
        "  def code(self):\n",
        "    print(f\"{self.name} is writing code\")\n",
        "\n",
        "  def code_in_language(self,language):\n",
        "    print(f\"{self.name} is writing code in {language}\") \n",
        "     \n",
        "# double underscore method \n",
        "\n",
        "  def __str__(self):\n",
        "    information= f\"Name:{self.name}, age:{self.age}, salary:{self.salary}\"\n",
        "    return information\n",
        "\n",
        "  def __eq__(self,other):\n",
        "    return self.level==other.level \n",
        "\n",
        "  def entry_salary(self,age):\n",
        "    if age<25:\n",
        "      return 5000\n",
        "    if age<28:\n",
        "      return 7000\n",
        "    return 9000      \n",
        "      \n",
        "    \n",
        "       \n",
        "\n",
        "\n",
        "\n",
        "\n",
        "#instance\n",
        "\n",
        "se1= SoftwareEngineer(\"Max\",20,\"Junior\",5000)\n",
        "#print(se1.name,se1.salary)\n",
        "#print(se1.alias)\n",
        "se2= SoftwareEngineer(\"Lisa\",25,\"Senior\",7000)\n",
        "\n",
        "se3= SoftwareEngineer(\"Mona\",28,\"Senior\",9000)\n",
        "\n",
        "#print(se2.alias)\n",
        "#print(se2.level,se2.name,se2.salary)\n",
        "#print(SoftwareEngineer.alias)\n",
        "\n",
        "se1.code()\n",
        "se2.code()\n",
        "\n",
        "se1.code_in_language('Python')\n",
        "se2.code_in_language(\"C sharp\")\n",
        "\n",
        "print(se1)\n",
        "print(se2)\n",
        "\n",
        "print(se2==se3)\n",
        "\n",
        "se1.entry_salary(27)\n",
        "\n",
        "\n",
        "\n",
        "\n",
        "\n"
      ],
      "execution_count": null,
      "outputs": [
        {
          "output_type": "stream",
          "text": [
            "Max is writing code\n",
            "Lisa is writing code\n",
            "Max is writing code in Python\n",
            "Lisa is writing code in C sharp\n",
            "Name:Max, age:20, salary:5000\n",
            "Name:Lisa, age:25, salary:7000\n",
            "True\n"
          ],
          "name": "stdout"
        },
        {
          "output_type": "execute_result",
          "data": {
            "text/plain": [
              "7000"
            ]
          },
          "metadata": {
            "tags": []
          },
          "execution_count": 28
        }
      ]
    },
    {
      "cell_type": "code",
      "metadata": {
        "id": "zumQJ6PFXRK_",
        "colab": {
          "base_uri": "https://localhost:8080/"
        },
        "outputId": "2e5a0780-fd28-4d17-90a0-cdba87c167ff"
      },
      "source": [
        "#inheritance\n",
        "\n",
        "\n",
        "#inherits, extends(has more attributes and methods) ,overrides\n",
        "class Employee:\n",
        "  \n",
        "  def __init__(self,name,age,salary):\n",
        "    self.name = name \n",
        "    self.age = age \n",
        "    self.salary= salary\n",
        "\n",
        "  def work(self):\n",
        "    print(f\"{self.name} is working diligently\") \n",
        "\n",
        "\n",
        "class SoftwareEngineer(Employee):\n",
        "  \n",
        "  def __init__(self,name,age,salary,level):\n",
        "    super().__init__(name,age,salary)\n",
        "    self.level=level\n",
        "\n",
        "\n",
        "  def work(self):\n",
        "    print(f\"{self.name} is overriding diligently\") \n",
        "\n",
        "\n",
        "\n",
        "  def debug(self):\n",
        "    print(f\"{self.name} is debugging like crazy and his salary is {self.salary}\")  \n",
        "\n",
        "\n",
        "\n",
        "class Designer(Employee):\n",
        "  \n",
        "  def __init__(self,name,age,salary,skill):\n",
        "    super().__init__(name,age,salary)\n",
        "    self.skill=skill\n",
        "  \n",
        "  \n",
        "  def work(self):\n",
        "    print(f\"{self.name} is riding diligently\") \n",
        "  \n",
        "  \n",
        "  def draw(self):\n",
        "    print(f\"{self.name} is drawing and her salary is {self.salary}\")\n",
        "  \n",
        "\n",
        "\n",
        "#Instances\n",
        "\n",
        "se= SoftwareEngineer(\"Shadman\",22,40000,\"junior\")\n",
        "\n",
        "#se.work() \n",
        "\n",
        "d= Designer(\"Biva\",23,30000,\"water color\")\n",
        "#print(d.name,d.salary)\n",
        "#d.work()\n",
        "\n",
        "#print(d.skill,d.salary,d.name)\n",
        "\n",
        "#polymorphism\n",
        "\n",
        "Employees= [SoftwareEngineer(\"Shadman\",22,40000,\"junior\"),\n",
        "               SoftwareEngineer(\"Rafin\",21,10000,\"junior\"),\n",
        "               Designer(\"Biva\",23,30000,\"water color\")]\n",
        "\n",
        "def motivate_employees(Employees):\n",
        "     for Employee in Employees:\n",
        "         Employee.work() \n",
        "\n",
        "\n",
        "motivate_employees(Employees)        \n",
        "            \n",
        "\n",
        "\n",
        "\n",
        "\n",
        "\n",
        "\n"
      ],
      "execution_count": 31,
      "outputs": [
        {
          "output_type": "stream",
          "text": [
            "Shadman is overriding diligently\n",
            "Rafin is overriding diligently\n",
            "Biva is riding diligently\n"
          ],
          "name": "stdout"
        }
      ]
    },
    {
      "cell_type": "code",
      "metadata": {
        "id": "Fbq2cwh-SaNF",
        "colab": {
          "base_uri": "https://localhost:8080/"
        },
        "outputId": "4d1fea11-1414-45f6-a508-d8f0b1cab6ed"
      },
      "source": [
        "#  encapsulation(private and public attricutes)\n",
        "\n",
        "class SoftwareEngineer:\n",
        "\n",
        "  def __init__(self,name,age):\n",
        "      self.name=name\n",
        "      self.age=age\n",
        "      self._salary=None\n",
        "      self._num_bugs_solved=0\n",
        "\n",
        "  def code(self):\n",
        "      self._num_bugs_solved+=1\n",
        "\n",
        "\n",
        "\n",
        "\n",
        " #getter(can be get from outside)\n",
        "  def get_salary(self):\n",
        "    return self._salary\n",
        "\n",
        " #setter(can be accessed from outside)\n",
        "  def set_salary(self, base_value):\n",
        "        self._salary=self._calculate_salary(base_value) \n",
        "\n",
        "  \n",
        "  # a hidden function that I will use to feed my set method to calculate salary only which I can see inside\n",
        "  def _calculate_salary(self, base_value):\n",
        "     if  self._num_bugs_solved < 10:\n",
        "        return base_value\n",
        "     \n",
        "     if  self._num_bugs_solved < 100:\n",
        "        return base_value*2\n",
        "     return base_value*3\n",
        "          \n",
        "\n",
        "\n",
        "\n",
        "\n",
        "\n",
        " #Instances\n",
        "\n",
        "se= SoftwareEngineer(\"Ayman\",24)\n",
        "\n",
        "print(se.name, se.age)\n",
        "\n",
        "\n",
        "for i in range(200):\n",
        "  se.code()\n",
        "\n",
        "print(se._num_bugs_solved)\n",
        "\n",
        "se.set_salary(10000)\n",
        "print(se.get_salary())\n",
        "\n",
        "\n",
        "\n"
      ],
      "execution_count": 27,
      "outputs": [
        {
          "output_type": "stream",
          "text": [
            "Ayman 24\n",
            "200\n",
            "30000\n"
          ],
          "name": "stdout"
        }
      ]
    },
    {
      "cell_type": "code",
      "metadata": {
        "colab": {
          "base_uri": "https://localhost:8080/"
        },
        "id": "0aJGScuJn13J",
        "outputId": "fd3368ff-66a4-4026-ec83-31c477446427"
      },
      "source": [
        "#using property command to use getters and setters which is a more pythonic way( not suing the previous set method or get method)\n",
        "\n",
        "class SoftwareEngineer:\n",
        "\n",
        "  def __init__(self,name,age):\n",
        "      self.name=name\n",
        "      self.age=age\n",
        "      self._salary=None\n",
        "      self._num_bugs_solved=0\n",
        "\n",
        "  @property\n",
        "  def salary(self):\n",
        "    return self._salary\n",
        "\n",
        "\n",
        "  @salary.setter\n",
        "  def salary(self,value):\n",
        "        self._salary=value \n",
        "\n",
        "\n",
        "se= SoftwareEngineer(\"Ayman\",24)\n",
        "\n",
        "se.salary= 10000\n",
        "print(se.salary)\n",
        "\n",
        "\n",
        "   "
      ],
      "execution_count": 29,
      "outputs": [
        {
          "output_type": "stream",
          "text": [
            "10000\n"
          ],
          "name": "stdout"
        }
      ]
    }
  ]
}